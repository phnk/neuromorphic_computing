{
 "cells": [
  {
   "cell_type": "code",
   "execution_count": 137,
   "id": "ec5de445",
   "metadata": {},
   "outputs": [],
   "source": [
    "from brian2 import *"
   ]
  },
  {
   "cell_type": "markdown",
   "id": "c593d78f",
   "metadata": {},
   "source": [
    "# Implementation\n",
    "This is an attempt on implementing the learning algorithm described in [An autonomous learning mobile robot using biological reward modulate STDP](https://www.sciencedirect.com/science/article/pii/S0925231221009310)\n",
    "\n",
    "# Setup the individual parts"
   ]
  },
  {
   "cell_type": "markdown",
   "id": "bfa2ff9e",
   "metadata": {},
   "source": [
    "## Input\n",
    "We define our input using a PoissonGroup for now. Could change for some gym input if time."
   ]
  },
  {
   "cell_type": "code",
   "execution_count": 138,
   "id": "f6e63380",
   "metadata": {},
   "outputs": [],
   "source": [
    "start_scope()\n",
    "num_input = 1\n",
    "input_rate = 10*Hz\n",
    "\n",
    "input = PoissonGroup(num_inputs, rates=input_rate)"
   ]
  },
  {
   "cell_type": "markdown",
   "id": "73d63c8d",
   "metadata": {},
   "source": [
    "## LIF:\n",
    "We start by defining our LIF model  \n",
    "Model: $\\dfrac{dV}{dt} = \\dfrac{(-V + V_{rest} + R_mI_{syn})}{\\tau_m}$, where  \n",
    "$V_{rest}$ is the resting potential, $R_m$ is the membrane resistance, $\\tau_m$ is the decay time for the membrane potential and $I_{syn}$ is the synaptic injection current\n",
    "\n"
   ]
  },
  {
   "cell_type": "code",
   "execution_count": 139,
   "id": "111b3dab",
   "metadata": {},
   "outputs": [],
   "source": [
    "# lif constants\n",
    "v_rest = 0\n",
    "R_m = 5*Gohm\n",
    "tau_m = 10*ms\n",
    "v_thresh = 15*mV\n",
    "\n",
    "lif_model = \"\"\"\n",
    "dv/dt = (-v + v_rest + R_m * I_syn)/tau_m : volt\n",
    "\"\"\"\n",
    "\n",
    "neurons = NeuronGroup(2, lif_model, threshold=\"v>v_thresh\", reset=\"v=v_rest\", method=\"exact\")"
   ]
  },
  {
   "cell_type": "markdown",
   "id": "d7a43146",
   "metadata": {},
   "source": [
    "## STDP\n",
    "We start off by defining our STDP synapse using the following equations:\n",
    "\n",
    "## Synapse\n",
    "**Synaptic injection current:**  \n",
    "$\\dfrac{dI_{syn}}{dt}  = \\dfrac{(-I_{syn} + C_{syn}*\\sum_i^Nw\\delta(t-t_{pre}))}{\\tau_{syn}}$, where  \n",
    "$C_syn$ is the constant of injection current, $\\tau_{syn}$ is the decay time, $w$ is the synaptic weight, $\\delta$ is the dirac function and, $t_{pre}$ is the presynaptic spike time\n",
    "\n",
    "## Learning algorithm\n",
    "**Presynaptic spike trajectory:**  \n",
    "$\\dfrac{dT_{pre}}{dt} = -\\dfrac{T_{pre}}{\\tau_{pre}} + A_{+}\\sum_{pre}\\delta(t-t_{pre})$  \n",
    "\n",
    "**Postsynaptic spike trajectory:**  \n",
    "$\\dfrac{dT_{post}}{dt} = -\\dfrac{T_{post}}{\\tau_{post}} + A_{-}\\sum_{post}\\delta(t-t_{pre})$ where,  \n",
    "\n",
    "$T_{pre}$ is the presynaptic spike trajectories, $T_{post}$ is the postsynaptic spike trajectories, $\\tau_{pre}$ is the presynatpic decay time, $\\tau_{post}$ is the postsynatpic decay time, $A_{+}$ is the scaling factor for LTP, $A_{-}$ is the scaling factor for LTD, $\\delta$ is the dirac function, $t_{pre}$ is the presynaptic spike time, and $t_{post}$ is the postsynaptic spike time.\n",
    "\n",
    "**Eligbility trace to collect the pre and post-synaptic trajectory:**  \n",
    "$\\dfrac{det}{dt} = \\dfrac{-T_{pre}\\delta(t-t_{post}) - T_{post}\\delta(t-t_{pre})}{\\tau_{et}}$, where  \n",
    "$et$ is the eiligbility trace and $\\tau_{et}$ is the decay time.\n",
    "\n",
    "**State division:**  \n",
    "$\\dfrac{dS_n}{dt} = -\\dfrac{S_n}{\\tau_s} + \\sum_n\\delta(t-t_{pre}^n)$, where  \n",
    "$S_n$ represents the trajectory of the $n^{th}$ state space, $t_{pre}^n$ is the firing time of the presynaptic spike in the $n^{th}$ state space and $\\tau_s$ is the decay time.\n",
    "\n",
    "**Memory curve:**  \n",
    "$\\dfrac{dM_n}{dt} = \\dfrac{S_net}{\\tau_m}$, where  \n",
    "$M_n$ represent the memory curve in the $n^{th}$ state space and $\\tau_m$ is the decay time.\n",
    "\n",
    "**Synaptic weight update:**  \n",
    "$\\dfrac{dw}{dt} = \\dfrac{\\gamma R(t) w \\sum_MM_n[H(t-t_n^{start}) - H(t-t_n^{end})]}{\\tau_w}$, where  \n",
    "$\\tau_m$ is the decay time of the synaptic weight, $\\gamma$ is the learning rate, $R(t)$ is the reward function, $H(t)$ is the heaviside function and $t_n^{start}$, $t_n^{end}$ are the start and end moments of the $n^{th}$ memory curve.\n",
    "\n",
    "**Reward function:**  \n",
    "$\\dfrac{dR(t)}{dt} = -\\dfrac{R(t)}{\\tau_R}+C_r\\sum \\pm \\delta(t-t_R)$, where  \n",
    "$R(t)$ is the reward, $t_r$ is the time for reward signal generation, $C_r$ is the reward constant and $\\tau_R$ is the decay time."
   ]
  },
  {
   "cell_type": "code",
   "execution_count": 140,
   "id": "17d5ada5",
   "metadata": {
    "scrolled": false
   },
   "outputs": [],
   "source": [
    "# stdp constants\n",
    "tau_pre = 20*ms # decay for pre-synaptic spike traces\n",
    "tau_post = tau_pre # decay for post-synaptic spike traces\n",
    "A_plus = 0.1 # LTD scaling factor\n",
    "A_minus = -0.1 # LTP scaling factor\n",
    "tau_et = 20*ms # time-decay for the eligbility trace\n",
    "tau_sn = 20*ms # time-decay for the state division\n",
    "tau_M = 20*ms # time-decay for the memory curve\n",
    "tau_w = 20*ms # time-decay for the synaptic weight update\n",
    "tau_r = 10*ms # time-decay for the reward function\n",
    "gamma = 0.0025 # learning rate\n",
    "w_0 = 1.1 # initial synaptic weight\n",
    "C_R = 1 # reward constant\n",
    "C_syn = 5 \n",
    "\n",
    "# need to be stdp\n",
    "# apre = apre\n",
    "# apost = apost\n",
    "# et = eligiblity trace\n",
    "# sn = state division for the n:th state division\n",
    "# mn = memory curve for the n:th state division\n",
    "# r = reward function\n",
    "# w = synaptic weight\n",
    "\n",
    "# heavside can be defined as int(x) > 1\n",
    "stdp_model = \"\"\"\n",
    "dI_syn/dt = -I_syn/tau_syn : 1 (event-driven)\n",
    "dapre/dt = -apre/tau_pre : 1 (event-driven)\n",
    "dapost/dt = -apost/tau_post : 1 (event-driven)\n",
    "det/dt = et/tau_et : 1 (event-driven)\n",
    "dsn/dt = -sn/tau_sn : 1 (event-driven)\n",
    "dmn/dt = sn*et/tau_M : 1 (event-driven)\n",
    "dr/dt = -r / tau_r : 1 (event-driven)\n",
    "dw/dt = (gamma * rt * w)/tau_w : 1 (event-driven)\n",
    "\"\"\"\n",
    "\n",
    "stdp_pre = \"\"\"\n",
    "I_syn += (C_syn + w) / tau_syn\n",
    "apre += A_plus\n",
    "et += -apost\n",
    "sn += 1\n",
    "\"\"\"\n",
    "\n",
    "stdp_post = \"\"\"\n",
    "apost += A_minus\n",
    "et += -apre\n",
    "\"\"\"\n",
    "\n",
    "stdp = Synapses(input, neurons, model=stdp_model, on_pre=stdp_pre, on_post=stdp_post)\n",
    "\n",
    "reward_model = \"\"\"\n",
    "flip : -1 : 1\n",
    "r = C_R * flip : 1 (event-driven)\n",
    "\"\"\"\n",
    "\n",
    "#reward = Synapses()"
   ]
  },
  {
   "cell_type": "markdown",
   "id": "234a2394",
   "metadata": {},
   "source": [
    "# Setup the connections\n",
    "We have our input, connected to our output neurons through 2 different STDP synapses. The STDP synapses are connected to do dopamine signalling."
   ]
  },
  {
   "cell_type": "code",
   "execution_count": 141,
   "id": "5fb38a98",
   "metadata": {},
   "outputs": [],
   "source": [
    "stdp.connect(i=[0, 0], j=[0, 1])"
   ]
  },
  {
   "cell_type": "markdown",
   "id": "bd673380",
   "metadata": {},
   "source": [
    "# Run simulation"
   ]
  },
  {
   "cell_type": "code",
   "execution_count": 142,
   "id": "8f5289b1",
   "metadata": {
    "scrolled": false
   },
   "outputs": [
    {
     "ename": "BrianObjectException",
     "evalue": "Error encountered with object named 'neurongroup_5'.\nObject was created here (most recent call only, full details in debug log):\n  File '/tmp/ipykernel_27919/3242513073.py', line 11, in <module>\n    neurons = NeuronGroup(2, lif_model, threshold=\"v>v_thresh\", reset=\"v=v_rest\", method=\"exact\")\n\nAn error occurred when preparing an object. (See above for original error message and traceback.)",
     "output_type": "error",
     "traceback": [
      "\u001b[0;31m---------------------------------------------------------------------------\u001b[0m",
      "\u001b[0;31mKeyError\u001b[0m                                  Traceback (most recent call last)",
      "\u001b[0;32m~/anaconda3/envs/neuromorphic_computing/lib/python3.7/site-packages/brian2/core/network.py\u001b[0m in \u001b[0;36mbefore_run\u001b[0;34m(self, run_namespace)\u001b[0m\n\u001b[1;32m    891\u001b[0m                 \u001b[0;32mtry\u001b[0m\u001b[0;34m:\u001b[0m\u001b[0;34m\u001b[0m\u001b[0;34m\u001b[0m\u001b[0m\n\u001b[0;32m--> 892\u001b[0;31m                     \u001b[0mobj\u001b[0m\u001b[0;34m.\u001b[0m\u001b[0mbefore_run\u001b[0m\u001b[0;34m(\u001b[0m\u001b[0mrun_namespace\u001b[0m\u001b[0;34m)\u001b[0m\u001b[0;34m\u001b[0m\u001b[0;34m\u001b[0m\u001b[0m\n\u001b[0m\u001b[1;32m    893\u001b[0m                 \u001b[0;32mexcept\u001b[0m \u001b[0mException\u001b[0m \u001b[0;32mas\u001b[0m \u001b[0mex\u001b[0m\u001b[0;34m:\u001b[0m\u001b[0;34m\u001b[0m\u001b[0;34m\u001b[0m\u001b[0m\n",
      "\u001b[0;32m~/anaconda3/envs/neuromorphic_computing/lib/python3.7/site-packages/brian2/groups/neurongroup.py\u001b[0m in \u001b[0;36mbefore_run\u001b[0;34m(self, run_namespace)\u001b[0m\n\u001b[1;32m    877\u001b[0m         \u001b[0;31m# Check units\u001b[0m\u001b[0;34m\u001b[0m\u001b[0;34m\u001b[0m\u001b[0;34m\u001b[0m\u001b[0m\n\u001b[0;32m--> 878\u001b[0;31m         \u001b[0mself\u001b[0m\u001b[0;34m.\u001b[0m\u001b[0mequations\u001b[0m\u001b[0;34m.\u001b[0m\u001b[0mcheck_units\u001b[0m\u001b[0;34m(\u001b[0m\u001b[0mself\u001b[0m\u001b[0;34m,\u001b[0m \u001b[0mrun_namespace\u001b[0m\u001b[0;34m=\u001b[0m\u001b[0mrun_namespace\u001b[0m\u001b[0;34m)\u001b[0m\u001b[0;34m\u001b[0m\u001b[0;34m\u001b[0m\u001b[0m\n\u001b[0m\u001b[1;32m    879\u001b[0m         \u001b[0;31m# Check that subexpressions that refer to stateful functions are labeled\u001b[0m\u001b[0;34m\u001b[0m\u001b[0;34m\u001b[0m\u001b[0;34m\u001b[0m\u001b[0m\n",
      "\u001b[0;32m~/anaconda3/envs/neuromorphic_computing/lib/python3.7/site-packages/brian2/equations/equations.py\u001b[0m in \u001b[0;36mcheck_units\u001b[0;34m(self, group, run_namespace)\u001b[0m\n\u001b[1;32m   1018\u001b[0m         resolved_namespace = group.resolve_all(external, run_namespace,\n\u001b[0;32m-> 1019\u001b[0;31m                                                user_identifiers=external)  # all variables are user defined\n\u001b[0m\u001b[1;32m   1020\u001b[0m \u001b[0;34m\u001b[0m\u001b[0m\n",
      "\u001b[0;32m~/anaconda3/envs/neuromorphic_computing/lib/python3.7/site-packages/brian2/groups/group.py\u001b[0m in \u001b[0;36mresolve_all\u001b[0;34m(self, identifiers, run_namespace, user_identifiers, additional_variables)\u001b[0m\n\u001b[1;32m    733\u001b[0m                                                  \u001b[0madditional_variables\u001b[0m\u001b[0;34m=\u001b[0m\u001b[0madditional_variables\u001b[0m\u001b[0;34m,\u001b[0m\u001b[0;34m\u001b[0m\u001b[0;34m\u001b[0m\u001b[0m\n\u001b[0;32m--> 734\u001b[0;31m                                                  run_namespace=run_namespace)\n\u001b[0m\u001b[1;32m    735\u001b[0m         \u001b[0;32mreturn\u001b[0m \u001b[0mresolved\u001b[0m\u001b[0;34m\u001b[0m\u001b[0;34m\u001b[0m\u001b[0m\n",
      "\u001b[0;32m~/anaconda3/envs/neuromorphic_computing/lib/python3.7/site-packages/brian2/groups/group.py\u001b[0m in \u001b[0;36m_resolve\u001b[0;34m(self, identifier, run_namespace, user_identifier, additional_variables)\u001b[0m\n\u001b[1;32m    690\u001b[0m         \u001b[0;31m# namespace\u001b[0m\u001b[0;34m\u001b[0m\u001b[0;34m\u001b[0m\u001b[0;34m\u001b[0m\u001b[0m\n\u001b[0;32m--> 691\u001b[0;31m         \u001b[0;32mreturn\u001b[0m \u001b[0mself\u001b[0m\u001b[0;34m.\u001b[0m\u001b[0m_resolve_external\u001b[0m\u001b[0;34m(\u001b[0m\u001b[0midentifier\u001b[0m\u001b[0;34m,\u001b[0m \u001b[0mrun_namespace\u001b[0m\u001b[0;34m=\u001b[0m\u001b[0mrun_namespace\u001b[0m\u001b[0;34m)\u001b[0m\u001b[0;34m\u001b[0m\u001b[0;34m\u001b[0m\u001b[0m\n\u001b[0m\u001b[1;32m    692\u001b[0m \u001b[0;34m\u001b[0m\u001b[0m\n",
      "\u001b[0;32m~/anaconda3/envs/neuromorphic_computing/lib/python3.7/site-packages/brian2/groups/group.py\u001b[0m in \u001b[0;36m_resolve_external\u001b[0;34m(self, identifier, run_namespace, user_identifier, internal_variable)\u001b[0m\n\u001b[1;32m    813\u001b[0m                     \u001b[0merror_msg\u001b[0m \u001b[0;34m=\u001b[0m \u001b[0;34mf'The identifier \"{identifier}\" could not be resolved.'\u001b[0m\u001b[0;34m\u001b[0m\u001b[0;34m\u001b[0m\u001b[0m\n\u001b[0;32m--> 814\u001b[0;31m                 \u001b[0;32mraise\u001b[0m \u001b[0mKeyError\u001b[0m\u001b[0;34m(\u001b[0m\u001b[0merror_msg\u001b[0m\u001b[0;34m)\u001b[0m\u001b[0;34m\u001b[0m\u001b[0;34m\u001b[0m\u001b[0m\n\u001b[0m\u001b[1;32m    815\u001b[0m \u001b[0;34m\u001b[0m\u001b[0m\n",
      "\u001b[0;31mKeyError\u001b[0m: 'The identifier \"I_syn\" could not be resolved.'",
      "\nThe above exception was the direct cause of the following exception:\n",
      "\u001b[0;31mBrianObjectException\u001b[0m                      Traceback (most recent call last)",
      "\u001b[0;32m/tmp/ipykernel_27919/2565246969.py\u001b[0m in \u001b[0;36m<module>\u001b[0;34m\u001b[0m\n\u001b[0;32m----> 1\u001b[0;31m \u001b[0mrun\u001b[0m\u001b[0;34m(\u001b[0m\u001b[0;36m60\u001b[0m\u001b[0;34m*\u001b[0m\u001b[0mms\u001b[0m\u001b[0;34m,\u001b[0m \u001b[0mreport\u001b[0m\u001b[0;34m=\u001b[0m\u001b[0;34m\"text\"\u001b[0m\u001b[0;34m)\u001b[0m\u001b[0;34m\u001b[0m\u001b[0;34m\u001b[0m\u001b[0m\n\u001b[0m",
      "\u001b[0;32m~/anaconda3/envs/neuromorphic_computing/lib/python3.7/site-packages/brian2/units/fundamentalunits.py\u001b[0m in \u001b[0;36mnew_f\u001b[0;34m(*args, **kwds)\u001b[0m\n\u001b[1;32m   2460\u001b[0m                                                      get_dimensions(newkeyset[k]))\n\u001b[1;32m   2461\u001b[0m \u001b[0;34m\u001b[0m\u001b[0m\n\u001b[0;32m-> 2462\u001b[0;31m             \u001b[0mresult\u001b[0m \u001b[0;34m=\u001b[0m \u001b[0mf\u001b[0m\u001b[0;34m(\u001b[0m\u001b[0;34m*\u001b[0m\u001b[0margs\u001b[0m\u001b[0;34m,\u001b[0m \u001b[0;34m**\u001b[0m\u001b[0mkwds\u001b[0m\u001b[0;34m)\u001b[0m\u001b[0;34m\u001b[0m\u001b[0;34m\u001b[0m\u001b[0m\n\u001b[0m\u001b[1;32m   2463\u001b[0m             \u001b[0;32mif\u001b[0m \u001b[0;34m'result'\u001b[0m \u001b[0;32min\u001b[0m \u001b[0mau\u001b[0m\u001b[0;34m:\u001b[0m\u001b[0;34m\u001b[0m\u001b[0;34m\u001b[0m\u001b[0m\n\u001b[1;32m   2464\u001b[0m                 \u001b[0;32mif\u001b[0m \u001b[0misinstance\u001b[0m\u001b[0;34m(\u001b[0m\u001b[0mau\u001b[0m\u001b[0;34m[\u001b[0m\u001b[0;34m'result'\u001b[0m\u001b[0;34m]\u001b[0m\u001b[0;34m,\u001b[0m \u001b[0mCallable\u001b[0m\u001b[0;34m)\u001b[0m \u001b[0;32mand\u001b[0m \u001b[0mau\u001b[0m\u001b[0;34m[\u001b[0m\u001b[0;34m'result'\u001b[0m\u001b[0;34m]\u001b[0m \u001b[0;34m!=\u001b[0m \u001b[0mbool\u001b[0m\u001b[0;34m:\u001b[0m\u001b[0;34m\u001b[0m\u001b[0;34m\u001b[0m\u001b[0m\n",
      "\u001b[0;32m~/anaconda3/envs/neuromorphic_computing/lib/python3.7/site-packages/brian2/core/magic.py\u001b[0m in \u001b[0;36mrun\u001b[0;34m(duration, report, report_period, namespace, profile, level)\u001b[0m\n\u001b[1;32m    376\u001b[0m     \"\"\"\n\u001b[1;32m    377\u001b[0m     return magic_network.run(duration, report=report, report_period=report_period,\n\u001b[0;32m--> 378\u001b[0;31m                              namespace=namespace, profile=profile, level=2+level)\n\u001b[0m\u001b[1;32m    379\u001b[0m \u001b[0mrun\u001b[0m\u001b[0;34m.\u001b[0m\u001b[0m__module__\u001b[0m \u001b[0;34m=\u001b[0m \u001b[0m__name__\u001b[0m\u001b[0;34m\u001b[0m\u001b[0;34m\u001b[0m\u001b[0m\n\u001b[1;32m    380\u001b[0m \u001b[0;34m\u001b[0m\u001b[0m\n",
      "\u001b[0;32m~/anaconda3/envs/neuromorphic_computing/lib/python3.7/site-packages/brian2/core/magic.py\u001b[0m in \u001b[0;36mrun\u001b[0;34m(self, duration, report, report_period, namespace, profile, level)\u001b[0m\n\u001b[1;32m    229\u001b[0m         \u001b[0mself\u001b[0m\u001b[0;34m.\u001b[0m\u001b[0m_update_magic_objects\u001b[0m\u001b[0;34m(\u001b[0m\u001b[0mlevel\u001b[0m\u001b[0;34m=\u001b[0m\u001b[0mlevel\u001b[0m\u001b[0;34m+\u001b[0m\u001b[0;36m1\u001b[0m\u001b[0;34m)\u001b[0m\u001b[0;34m\u001b[0m\u001b[0;34m\u001b[0m\u001b[0m\n\u001b[1;32m    230\u001b[0m         Network.run(self, duration, report=report, report_period=report_period,\n\u001b[0;32m--> 231\u001b[0;31m                     namespace=namespace, profile=profile, level=level+1)\n\u001b[0m\u001b[1;32m    232\u001b[0m \u001b[0;34m\u001b[0m\u001b[0m\n\u001b[1;32m    233\u001b[0m     \u001b[0;32mdef\u001b[0m \u001b[0mstore\u001b[0m\u001b[0;34m(\u001b[0m\u001b[0mself\u001b[0m\u001b[0;34m,\u001b[0m \u001b[0mname\u001b[0m\u001b[0;34m=\u001b[0m\u001b[0;34m'default'\u001b[0m\u001b[0;34m,\u001b[0m \u001b[0mfilename\u001b[0m\u001b[0;34m=\u001b[0m\u001b[0;32mNone\u001b[0m\u001b[0;34m,\u001b[0m \u001b[0mlevel\u001b[0m\u001b[0;34m=\u001b[0m\u001b[0;36m0\u001b[0m\u001b[0;34m)\u001b[0m\u001b[0;34m:\u001b[0m\u001b[0;34m\u001b[0m\u001b[0;34m\u001b[0m\u001b[0m\n",
      "\u001b[0;32m~/anaconda3/envs/neuromorphic_computing/lib/python3.7/site-packages/brian2/core/base.py\u001b[0m in \u001b[0;36mdevice_override_decorated_function\u001b[0;34m(*args, **kwds)\u001b[0m\n\u001b[1;32m    291\u001b[0m                 \u001b[0;32mreturn\u001b[0m \u001b[0mgetattr\u001b[0m\u001b[0;34m(\u001b[0m\u001b[0mcurdev\u001b[0m\u001b[0;34m,\u001b[0m \u001b[0mname\u001b[0m\u001b[0;34m)\u001b[0m\u001b[0;34m(\u001b[0m\u001b[0;34m*\u001b[0m\u001b[0margs\u001b[0m\u001b[0;34m,\u001b[0m \u001b[0;34m**\u001b[0m\u001b[0mkwds\u001b[0m\u001b[0;34m)\u001b[0m\u001b[0;34m\u001b[0m\u001b[0;34m\u001b[0m\u001b[0m\n\u001b[1;32m    292\u001b[0m             \u001b[0;32melse\u001b[0m\u001b[0;34m:\u001b[0m\u001b[0;34m\u001b[0m\u001b[0;34m\u001b[0m\u001b[0m\n\u001b[0;32m--> 293\u001b[0;31m                 \u001b[0;32mreturn\u001b[0m \u001b[0mfunc\u001b[0m\u001b[0;34m(\u001b[0m\u001b[0;34m*\u001b[0m\u001b[0margs\u001b[0m\u001b[0;34m,\u001b[0m \u001b[0;34m**\u001b[0m\u001b[0mkwds\u001b[0m\u001b[0;34m)\u001b[0m\u001b[0;34m\u001b[0m\u001b[0;34m\u001b[0m\u001b[0m\n\u001b[0m\u001b[1;32m    294\u001b[0m \u001b[0;34m\u001b[0m\u001b[0m\n\u001b[1;32m    295\u001b[0m         \u001b[0mdevice_override_decorated_function\u001b[0m\u001b[0;34m.\u001b[0m\u001b[0moriginal_function\u001b[0m \u001b[0;34m=\u001b[0m \u001b[0mfunc\u001b[0m\u001b[0;34m\u001b[0m\u001b[0;34m\u001b[0m\u001b[0m\n",
      "\u001b[0;32m~/anaconda3/envs/neuromorphic_computing/lib/python3.7/site-packages/brian2/units/fundamentalunits.py\u001b[0m in \u001b[0;36mnew_f\u001b[0;34m(*args, **kwds)\u001b[0m\n\u001b[1;32m   2460\u001b[0m                                                      get_dimensions(newkeyset[k]))\n\u001b[1;32m   2461\u001b[0m \u001b[0;34m\u001b[0m\u001b[0m\n\u001b[0;32m-> 2462\u001b[0;31m             \u001b[0mresult\u001b[0m \u001b[0;34m=\u001b[0m \u001b[0mf\u001b[0m\u001b[0;34m(\u001b[0m\u001b[0;34m*\u001b[0m\u001b[0margs\u001b[0m\u001b[0;34m,\u001b[0m \u001b[0;34m**\u001b[0m\u001b[0mkwds\u001b[0m\u001b[0;34m)\u001b[0m\u001b[0;34m\u001b[0m\u001b[0;34m\u001b[0m\u001b[0m\n\u001b[0m\u001b[1;32m   2463\u001b[0m             \u001b[0;32mif\u001b[0m \u001b[0;34m'result'\u001b[0m \u001b[0;32min\u001b[0m \u001b[0mau\u001b[0m\u001b[0;34m:\u001b[0m\u001b[0;34m\u001b[0m\u001b[0;34m\u001b[0m\u001b[0m\n\u001b[1;32m   2464\u001b[0m                 \u001b[0;32mif\u001b[0m \u001b[0misinstance\u001b[0m\u001b[0;34m(\u001b[0m\u001b[0mau\u001b[0m\u001b[0;34m[\u001b[0m\u001b[0;34m'result'\u001b[0m\u001b[0;34m]\u001b[0m\u001b[0;34m,\u001b[0m \u001b[0mCallable\u001b[0m\u001b[0;34m)\u001b[0m \u001b[0;32mand\u001b[0m \u001b[0mau\u001b[0m\u001b[0;34m[\u001b[0m\u001b[0;34m'result'\u001b[0m\u001b[0;34m]\u001b[0m \u001b[0;34m!=\u001b[0m \u001b[0mbool\u001b[0m\u001b[0;34m:\u001b[0m\u001b[0;34m\u001b[0m\u001b[0;34m\u001b[0m\u001b[0m\n",
      "\u001b[0;32m~/anaconda3/envs/neuromorphic_computing/lib/python3.7/site-packages/brian2/core/network.py\u001b[0m in \u001b[0;36mrun\u001b[0;34m(self, duration, report, report_period, namespace, profile, level)\u001b[0m\n\u001b[1;32m   1005\u001b[0m             \u001b[0mnamespace\u001b[0m \u001b[0;34m=\u001b[0m \u001b[0mget_local_namespace\u001b[0m\u001b[0;34m(\u001b[0m\u001b[0mlevel\u001b[0m\u001b[0;34m=\u001b[0m\u001b[0mlevel\u001b[0m\u001b[0;34m+\u001b[0m\u001b[0;36m3\u001b[0m\u001b[0;34m)\u001b[0m\u001b[0;34m\u001b[0m\u001b[0;34m\u001b[0m\u001b[0m\n\u001b[1;32m   1006\u001b[0m \u001b[0;34m\u001b[0m\u001b[0m\n\u001b[0;32m-> 1007\u001b[0;31m         \u001b[0mself\u001b[0m\u001b[0;34m.\u001b[0m\u001b[0mbefore_run\u001b[0m\u001b[0;34m(\u001b[0m\u001b[0mnamespace\u001b[0m\u001b[0;34m)\u001b[0m\u001b[0;34m\u001b[0m\u001b[0;34m\u001b[0m\u001b[0m\n\u001b[0m\u001b[1;32m   1008\u001b[0m \u001b[0;34m\u001b[0m\u001b[0m\n\u001b[1;32m   1009\u001b[0m         \u001b[0;32mif\u001b[0m \u001b[0mlen\u001b[0m\u001b[0;34m(\u001b[0m\u001b[0mall_objects\u001b[0m\u001b[0;34m)\u001b[0m \u001b[0;34m==\u001b[0m \u001b[0;36m0\u001b[0m\u001b[0;34m:\u001b[0m\u001b[0;34m\u001b[0m\u001b[0;34m\u001b[0m\u001b[0m\n",
      "\u001b[0;32m~/anaconda3/envs/neuromorphic_computing/lib/python3.7/site-packages/brian2/core/base.py\u001b[0m in \u001b[0;36mdevice_override_decorated_function\u001b[0;34m(*args, **kwds)\u001b[0m\n\u001b[1;32m    291\u001b[0m                 \u001b[0;32mreturn\u001b[0m \u001b[0mgetattr\u001b[0m\u001b[0;34m(\u001b[0m\u001b[0mcurdev\u001b[0m\u001b[0;34m,\u001b[0m \u001b[0mname\u001b[0m\u001b[0;34m)\u001b[0m\u001b[0;34m(\u001b[0m\u001b[0;34m*\u001b[0m\u001b[0margs\u001b[0m\u001b[0;34m,\u001b[0m \u001b[0;34m**\u001b[0m\u001b[0mkwds\u001b[0m\u001b[0;34m)\u001b[0m\u001b[0;34m\u001b[0m\u001b[0;34m\u001b[0m\u001b[0m\n\u001b[1;32m    292\u001b[0m             \u001b[0;32melse\u001b[0m\u001b[0;34m:\u001b[0m\u001b[0;34m\u001b[0m\u001b[0;34m\u001b[0m\u001b[0m\n\u001b[0;32m--> 293\u001b[0;31m                 \u001b[0;32mreturn\u001b[0m \u001b[0mfunc\u001b[0m\u001b[0;34m(\u001b[0m\u001b[0;34m*\u001b[0m\u001b[0margs\u001b[0m\u001b[0;34m,\u001b[0m \u001b[0;34m**\u001b[0m\u001b[0mkwds\u001b[0m\u001b[0;34m)\u001b[0m\u001b[0;34m\u001b[0m\u001b[0;34m\u001b[0m\u001b[0m\n\u001b[0m\u001b[1;32m    294\u001b[0m \u001b[0;34m\u001b[0m\u001b[0m\n\u001b[1;32m    295\u001b[0m         \u001b[0mdevice_override_decorated_function\u001b[0m\u001b[0;34m.\u001b[0m\u001b[0moriginal_function\u001b[0m \u001b[0;34m=\u001b[0m \u001b[0mfunc\u001b[0m\u001b[0;34m\u001b[0m\u001b[0;34m\u001b[0m\u001b[0m\n",
      "\u001b[0;32m~/anaconda3/envs/neuromorphic_computing/lib/python3.7/site-packages/brian2/core/network.py\u001b[0m in \u001b[0;36mbefore_run\u001b[0;34m(self, run_namespace)\u001b[0m\n\u001b[1;32m    892\u001b[0m                     \u001b[0mobj\u001b[0m\u001b[0;34m.\u001b[0m\u001b[0mbefore_run\u001b[0m\u001b[0;34m(\u001b[0m\u001b[0mrun_namespace\u001b[0m\u001b[0;34m)\u001b[0m\u001b[0;34m\u001b[0m\u001b[0;34m\u001b[0m\u001b[0m\n\u001b[1;32m    893\u001b[0m                 \u001b[0;32mexcept\u001b[0m \u001b[0mException\u001b[0m \u001b[0;32mas\u001b[0m \u001b[0mex\u001b[0m\u001b[0;34m:\u001b[0m\u001b[0;34m\u001b[0m\u001b[0;34m\u001b[0m\u001b[0m\n\u001b[0;32m--> 894\u001b[0;31m                     \u001b[0;32mraise\u001b[0m \u001b[0mBrianObjectException\u001b[0m\u001b[0;34m(\u001b[0m\u001b[0;34m\"An error occurred when preparing an object.\"\u001b[0m\u001b[0;34m,\u001b[0m \u001b[0mobj\u001b[0m\u001b[0;34m)\u001b[0m \u001b[0;32mfrom\u001b[0m \u001b[0mex\u001b[0m\u001b[0;34m\u001b[0m\u001b[0;34m\u001b[0m\u001b[0m\n\u001b[0m\u001b[1;32m    895\u001b[0m \u001b[0;34m\u001b[0m\u001b[0m\n\u001b[1;32m    896\u001b[0m         \u001b[0;31m# Check that no object has been run as part of another network before\u001b[0m\u001b[0;34m\u001b[0m\u001b[0;34m\u001b[0m\u001b[0;34m\u001b[0m\u001b[0m\n",
      "\u001b[0;31mBrianObjectException\u001b[0m: Error encountered with object named 'neurongroup_5'.\nObject was created here (most recent call only, full details in debug log):\n  File '/tmp/ipykernel_27919/3242513073.py', line 11, in <module>\n    neurons = NeuronGroup(2, lif_model, threshold=\"v>v_thresh\", reset=\"v=v_rest\", method=\"exact\")\n\nAn error occurred when preparing an object. (See above for original error message and traceback.)"
     ]
    }
   ],
   "source": [
    "run(60*ms, report=\"text\")"
   ]
  }
 ],
 "metadata": {
  "kernelspec": {
   "display_name": "Python 3 (ipykernel)",
   "language": "python",
   "name": "python3"
  },
  "language_info": {
   "codemirror_mode": {
    "name": "ipython",
    "version": 3
   },
   "file_extension": ".py",
   "mimetype": "text/x-python",
   "name": "python",
   "nbconvert_exporter": "python",
   "pygments_lexer": "ipython3",
   "version": "3.7.13"
  }
 },
 "nbformat": 4,
 "nbformat_minor": 5
}
